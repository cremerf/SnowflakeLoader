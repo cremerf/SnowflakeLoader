{
 "cells": [
  {
   "cell_type": "code",
   "execution_count": null,
   "metadata": {},
   "outputs": [],
   "source": [
    "%load_ext autoreload\n",
    "%autoreload 2"
   ]
  },
  {
   "cell_type": "code",
   "execution_count": 3,
   "metadata": {},
   "outputs": [],
   "source": [
    "import sys\n",
    "sys.path.append('../')\n",
    "import snowflake.connector\n",
    "from sqlalchemy import create_engine\n",
    "from snowflake.sqlalchemy import URL\n",
    "import glob\n",
    "import os\n",
    "import pandas as pd\n",
    "from snowflake.connector.pandas_tools import write_pandas\n",
    "from snowflake.connector.pandas_tools import pd_writer"
   ]
  },
  {
   "cell_type": "code",
   "execution_count": 4,
   "metadata": {},
   "outputs": [],
   "source": [
    "from sqlalchemy import create_engine"
   ]
  },
  {
   "cell_type": "code",
   "execution_count": 36,
   "metadata": {},
   "outputs": [],
   "source": [
    "USER = 'CREMERF'\n",
    "PASSWORD = 'Parabola.com29'\n",
    "ACCOUNT = 'in56010.sa-east-1.aws'\n",
    "WAREHOUSE = ''\n",
    "DB_NAME = 'PIPEDREAMS'\n",
    "SCHEMA = 'TESTING_1'\n",
    "AUTHENTICATOR = 'externalbrowser'\n",
    "ROL= 'ACCOUNTADMIN'"
   ]
  },
  {
   "cell_type": "code",
   "execution_count": null,
   "metadata": {},
   "outputs": [],
   "source": [
    "https://in56010.sa-east-1.aws.snowflakecomputing.com"
   ]
  },
  {
   "cell_type": "code",
   "execution_count": 38,
   "metadata": {},
   "outputs": [],
   "source": [
    "conn = snowflake.connector.connect(\n",
    "            user= USER,\n",
    "            password= PASSWORD,\n",
    "            account= ACCOUNT,\n",
    "            database= DB_NAME,\n",
    "            schema=SCHEMA,\n",
    "            rol=ROL\n",
    "            \n",
    "            )"
   ]
  },
  {
   "cell_type": "code",
   "execution_count": 34,
   "metadata": {},
   "outputs": [
    {
     "ename": "AttributeError",
     "evalue": "'SnowflakeConnection' object has no attribute 'CURRENT_WAREHOUSE'",
     "output_type": "error",
     "traceback": [
      "\u001b[1;31m---------------------------------------------------------------------------\u001b[0m",
      "\u001b[1;31mAttributeError\u001b[0m                            Traceback (most recent call last)",
      "Cell \u001b[1;32mIn [34], line 1\u001b[0m\n\u001b[1;32m----> 1\u001b[0m conn\u001b[39m.\u001b[39;49mCURRENT_WAREHOUSE()\n",
      "\u001b[1;31mAttributeError\u001b[0m: 'SnowflakeConnection' object has no attribute 'CURRENT_WAREHOUSE'"
     ]
    }
   ],
   "source": []
  },
  {
   "cell_type": "code",
   "execution_count": 7,
   "metadata": {},
   "outputs": [],
   "source": [
    "test1 = pd.read_csv('C:\\\\Users\\\\Fede\\\\Desktop\\\\FOCUS\\\\Intellignos\\\\AssistCard\\\\ExtractedFromGA\\\\H\\\\2017\\\\2017.csv')"
   ]
  },
  {
   "cell_type": "code",
   "execution_count": null,
   "metadata": {},
   "outputs": [],
   "source": [
    "conn_string = f\"snowflake://{USER}:{PASSWORD}@{ACCOUNT}/{DB_NAME}/{schema_name}\""
   ]
  },
  {
   "cell_type": "code",
   "execution_count": 39,
   "metadata": {},
   "outputs": [],
   "source": [
    "conn_string = f\"snowflake://{USER}:{PASSWORD}@{ACCOUNT}/{DB_NAME}/{SCHEMA}\"\n",
    "engine = create_engine(conn_string)"
   ]
  },
  {
   "cell_type": "code",
   "execution_count": 40,
   "metadata": {},
   "outputs": [
    {
     "ename": "ProgrammingError",
     "evalue": "000606 (57P03): No active warehouse selected in the current session.  Select an active warehouse with the 'use warehouse' command.\n",
     "output_type": "error",
     "traceback": [
      "\u001b[1;31m---------------------------------------------------------------------------\u001b[0m",
      "\u001b[1;31mProgrammingError\u001b[0m                          Traceback (most recent call last)",
      "Cell \u001b[1;32mIn [40], line 2\u001b[0m\n\u001b[0;32m      1\u001b[0m \u001b[39mwith\u001b[39;00m engine\u001b[39m.\u001b[39mconnect() \u001b[39mas\u001b[39;00m con:\n\u001b[1;32m----> 2\u001b[0m         test1\u001b[39m.\u001b[39;49mto_sql(name\u001b[39m=\u001b[39;49m\u001b[39m'\u001b[39;49m\u001b[39mtesteo_123\u001b[39;49m\u001b[39m'\u001b[39;49m, con\u001b[39m=\u001b[39;49mcon, index\u001b[39m=\u001b[39;49m\u001b[39mFalse\u001b[39;49;00m, if_exists\u001b[39m=\u001b[39;49m\u001b[39m'\u001b[39;49m\u001b[39mappend\u001b[39;49m\u001b[39m'\u001b[39;49m, method\u001b[39m=\u001b[39;49mpd_writer)\n",
      "File \u001b[1;32mc:\\Users\\Fede\\AppData\\Local\\Programs\\Python\\Python310\\lib\\site-packages\\pandas\\core\\generic.py:2987\u001b[0m, in \u001b[0;36mNDFrame.to_sql\u001b[1;34m(self, name, con, schema, if_exists, index, index_label, chunksize, dtype, method)\u001b[0m\n\u001b[0;32m   2830\u001b[0m \u001b[39m\"\"\"\u001b[39;00m\n\u001b[0;32m   2831\u001b[0m \u001b[39mWrite records stored in a DataFrame to a SQL database.\u001b[39;00m\n\u001b[0;32m   2832\u001b[0m \n\u001b[1;32m   (...)\u001b[0m\n\u001b[0;32m   2983\u001b[0m \u001b[39m[(1,), (None,), (2,)]\u001b[39;00m\n\u001b[0;32m   2984\u001b[0m \u001b[39m\"\"\"\u001b[39;00m  \u001b[39m# noqa:E501\u001b[39;00m\n\u001b[0;32m   2985\u001b[0m \u001b[39mfrom\u001b[39;00m \u001b[39mpandas\u001b[39;00m\u001b[39m.\u001b[39;00m\u001b[39mio\u001b[39;00m \u001b[39mimport\u001b[39;00m sql\n\u001b[1;32m-> 2987\u001b[0m \u001b[39mreturn\u001b[39;00m sql\u001b[39m.\u001b[39;49mto_sql(\n\u001b[0;32m   2988\u001b[0m     \u001b[39mself\u001b[39;49m,\n\u001b[0;32m   2989\u001b[0m     name,\n\u001b[0;32m   2990\u001b[0m     con,\n\u001b[0;32m   2991\u001b[0m     schema\u001b[39m=\u001b[39;49mschema,\n\u001b[0;32m   2992\u001b[0m     if_exists\u001b[39m=\u001b[39;49mif_exists,\n\u001b[0;32m   2993\u001b[0m     index\u001b[39m=\u001b[39;49mindex,\n\u001b[0;32m   2994\u001b[0m     index_label\u001b[39m=\u001b[39;49mindex_label,\n\u001b[0;32m   2995\u001b[0m     chunksize\u001b[39m=\u001b[39;49mchunksize,\n\u001b[0;32m   2996\u001b[0m     dtype\u001b[39m=\u001b[39;49mdtype,\n\u001b[0;32m   2997\u001b[0m     method\u001b[39m=\u001b[39;49mmethod,\n\u001b[0;32m   2998\u001b[0m )\n",
      "File \u001b[1;32mc:\\Users\\Fede\\AppData\\Local\\Programs\\Python\\Python310\\lib\\site-packages\\pandas\\io\\sql.py:695\u001b[0m, in \u001b[0;36mto_sql\u001b[1;34m(frame, name, con, schema, if_exists, index, index_label, chunksize, dtype, method, engine, **engine_kwargs)\u001b[0m\n\u001b[0;32m    690\u001b[0m \u001b[39melif\u001b[39;00m \u001b[39mnot\u001b[39;00m \u001b[39misinstance\u001b[39m(frame, DataFrame):\n\u001b[0;32m    691\u001b[0m     \u001b[39mraise\u001b[39;00m \u001b[39mNotImplementedError\u001b[39;00m(\n\u001b[0;32m    692\u001b[0m         \u001b[39m\"\u001b[39m\u001b[39m'\u001b[39m\u001b[39mframe\u001b[39m\u001b[39m'\u001b[39m\u001b[39m argument should be either a Series or a DataFrame\u001b[39m\u001b[39m\"\u001b[39m\n\u001b[0;32m    693\u001b[0m     )\n\u001b[1;32m--> 695\u001b[0m \u001b[39mreturn\u001b[39;00m pandas_sql\u001b[39m.\u001b[39mto_sql(\n\u001b[0;32m    696\u001b[0m     frame,\n\u001b[0;32m    697\u001b[0m     name,\n\u001b[0;32m    698\u001b[0m     if_exists\u001b[39m=\u001b[39mif_exists,\n\u001b[0;32m    699\u001b[0m     index\u001b[39m=\u001b[39mindex,\n\u001b[0;32m    700\u001b[0m     index_label\u001b[39m=\u001b[39mindex_label,\n\u001b[0;32m    701\u001b[0m     schema\u001b[39m=\u001b[39mschema,\n\u001b[0;32m    702\u001b[0m     chunksize\u001b[39m=\u001b[39mchunksize,\n\u001b[0;32m    703\u001b[0m     dtype\u001b[39m=\u001b[39mdtype,\n\u001b[0;32m    704\u001b[0m     method\u001b[39m=\u001b[39mmethod,\n\u001b[0;32m    705\u001b[0m     engine\u001b[39m=\u001b[39mengine,\n\u001b[0;32m    706\u001b[0m     \u001b[39m*\u001b[39m\u001b[39m*\u001b[39mengine_kwargs,\n\u001b[0;32m    707\u001b[0m )\n",
      "File \u001b[1;32mc:\\Users\\Fede\\AppData\\Local\\Programs\\Python\\Python310\\lib\\site-packages\\pandas\\io\\sql.py:1738\u001b[0m, in \u001b[0;36mSQLDatabase.to_sql\u001b[1;34m(self, frame, name, if_exists, index, index_label, schema, chunksize, dtype, method, engine, **engine_kwargs)\u001b[0m\n\u001b[0;32m   1726\u001b[0m sql_engine \u001b[39m=\u001b[39m get_engine(engine)\n\u001b[0;32m   1728\u001b[0m table \u001b[39m=\u001b[39m \u001b[39mself\u001b[39m\u001b[39m.\u001b[39mprep_table(\n\u001b[0;32m   1729\u001b[0m     frame\u001b[39m=\u001b[39mframe,\n\u001b[0;32m   1730\u001b[0m     name\u001b[39m=\u001b[39mname,\n\u001b[1;32m   (...)\u001b[0m\n\u001b[0;32m   1735\u001b[0m     dtype\u001b[39m=\u001b[39mdtype,\n\u001b[0;32m   1736\u001b[0m )\n\u001b[1;32m-> 1738\u001b[0m total_inserted \u001b[39m=\u001b[39m sql_engine\u001b[39m.\u001b[39minsert_records(\n\u001b[0;32m   1739\u001b[0m     table\u001b[39m=\u001b[39mtable,\n\u001b[0;32m   1740\u001b[0m     con\u001b[39m=\u001b[39m\u001b[39mself\u001b[39m\u001b[39m.\u001b[39mconnectable,\n\u001b[0;32m   1741\u001b[0m     frame\u001b[39m=\u001b[39mframe,\n\u001b[0;32m   1742\u001b[0m     name\u001b[39m=\u001b[39mname,\n\u001b[0;32m   1743\u001b[0m     index\u001b[39m=\u001b[39mindex,\n\u001b[0;32m   1744\u001b[0m     schema\u001b[39m=\u001b[39mschema,\n\u001b[0;32m   1745\u001b[0m     chunksize\u001b[39m=\u001b[39mchunksize,\n\u001b[0;32m   1746\u001b[0m     method\u001b[39m=\u001b[39mmethod,\n\u001b[0;32m   1747\u001b[0m     \u001b[39m*\u001b[39m\u001b[39m*\u001b[39mengine_kwargs,\n\u001b[0;32m   1748\u001b[0m )\n\u001b[0;32m   1750\u001b[0m \u001b[39mself\u001b[39m\u001b[39m.\u001b[39mcheck_case_sensitive(name\u001b[39m=\u001b[39mname, schema\u001b[39m=\u001b[39mschema)\n\u001b[0;32m   1751\u001b[0m \u001b[39mreturn\u001b[39;00m total_inserted\n",
      "File \u001b[1;32mc:\\Users\\Fede\\AppData\\Local\\Programs\\Python\\Python310\\lib\\site-packages\\pandas\\io\\sql.py:1325\u001b[0m, in \u001b[0;36mSQLAlchemyEngine.insert_records\u001b[1;34m(self, table, con, frame, name, index, schema, chunksize, method, **engine_kwargs)\u001b[0m\n\u001b[0;32m   1322\u001b[0m \u001b[39mfrom\u001b[39;00m \u001b[39msqlalchemy\u001b[39;00m \u001b[39mimport\u001b[39;00m exc\n\u001b[0;32m   1324\u001b[0m \u001b[39mtry\u001b[39;00m:\n\u001b[1;32m-> 1325\u001b[0m     \u001b[39mreturn\u001b[39;00m table\u001b[39m.\u001b[39;49minsert(chunksize\u001b[39m=\u001b[39;49mchunksize, method\u001b[39m=\u001b[39;49mmethod)\n\u001b[0;32m   1326\u001b[0m \u001b[39mexcept\u001b[39;00m exc\u001b[39m.\u001b[39mSQLAlchemyError \u001b[39mas\u001b[39;00m err:\n\u001b[0;32m   1327\u001b[0m     \u001b[39m# GH34431\u001b[39;00m\n\u001b[0;32m   1328\u001b[0m     \u001b[39m# https://stackoverflow.com/a/67358288/6067848\u001b[39;00m\n\u001b[0;32m   1329\u001b[0m     msg \u001b[39m=\u001b[39m \u001b[39mr\u001b[39m\u001b[39m\"\"\"\u001b[39m\u001b[39m(\u001b[39m\u001b[39m\\\u001b[39m\u001b[39m(1054, \u001b[39m\u001b[39m\"\u001b[39m\u001b[39mUnknown column \u001b[39m\u001b[39m'\u001b[39m\u001b[39minf(e0)?\u001b[39m\u001b[39m'\u001b[39m\u001b[39m in \u001b[39m\u001b[39m'\u001b[39m\u001b[39mfield list\u001b[39m\u001b[39m'\u001b[39m\u001b[39m\"\u001b[39m\u001b[39m\\\u001b[39m\u001b[39m))(?#\u001b[39m\n\u001b[0;32m   1330\u001b[0m \u001b[39m    )|inf can not be used with MySQL\u001b[39m\u001b[39m\"\"\"\u001b[39m\n",
      "File \u001b[1;32mc:\\Users\\Fede\\AppData\\Local\\Programs\\Python\\Python310\\lib\\site-packages\\pandas\\io\\sql.py:946\u001b[0m, in \u001b[0;36mSQLTable.insert\u001b[1;34m(self, chunksize, method)\u001b[0m\n\u001b[0;32m    943\u001b[0m     \u001b[39mbreak\u001b[39;00m\n\u001b[0;32m    945\u001b[0m chunk_iter \u001b[39m=\u001b[39m \u001b[39mzip\u001b[39m(\u001b[39m*\u001b[39m(arr[start_i:end_i] \u001b[39mfor\u001b[39;00m arr \u001b[39min\u001b[39;00m data_list))\n\u001b[1;32m--> 946\u001b[0m num_inserted \u001b[39m=\u001b[39m exec_insert(conn, keys, chunk_iter)\n\u001b[0;32m    947\u001b[0m \u001b[39m# GH 46891\u001b[39;00m\n\u001b[0;32m    948\u001b[0m \u001b[39mif\u001b[39;00m is_integer(num_inserted):\n",
      "File \u001b[1;32mc:\\Users\\Fede\\AppData\\Local\\Programs\\Python\\Python310\\lib\\site-packages\\snowflake\\connector\\pandas_tools.py:342\u001b[0m, in \u001b[0;36mpd_writer\u001b[1;34m(table, conn, keys, data_iter, **kwargs)\u001b[0m\n\u001b[0;32m    340\u001b[0m sf_connection \u001b[39m=\u001b[39m conn\u001b[39m.\u001b[39mconnection\u001b[39m.\u001b[39mconnection\n\u001b[0;32m    341\u001b[0m df \u001b[39m=\u001b[39m pandas\u001b[39m.\u001b[39mDataFrame(data_iter, columns\u001b[39m=\u001b[39mkeys)\n\u001b[1;32m--> 342\u001b[0m write_pandas(\n\u001b[0;32m    343\u001b[0m     conn\u001b[39m=\u001b[39msf_connection,\n\u001b[0;32m    344\u001b[0m     df\u001b[39m=\u001b[39mdf,\n\u001b[0;32m    345\u001b[0m     \u001b[39m# Note: Our sqlalchemy connector creates tables case insensitively\u001b[39;00m\n\u001b[0;32m    346\u001b[0m     table_name\u001b[39m=\u001b[39mtable\u001b[39m.\u001b[39mname\u001b[39m.\u001b[39mupper(),\n\u001b[0;32m    347\u001b[0m     schema\u001b[39m=\u001b[39mtable\u001b[39m.\u001b[39mschema,\n\u001b[0;32m    348\u001b[0m     \u001b[39m*\u001b[39m\u001b[39m*\u001b[39mkwargs,\n\u001b[0;32m    349\u001b[0m )\n",
      "File \u001b[1;32mc:\\Users\\Fede\\AppData\\Local\\Programs\\Python\\Python310\\lib\\site-packages\\snowflake\\connector\\pandas_tools.py:249\u001b[0m, in \u001b[0;36mwrite_pandas\u001b[1;34m(conn, df, table_name, database, schema, chunk_size, compression, on_error, parallel, quote_identifiers, auto_create_table, create_temp_table, overwrite, table_type, **kwargs)\u001b[0m\n\u001b[0;32m    241\u001b[0m copy_into_sql \u001b[39m=\u001b[39m (\n\u001b[0;32m    242\u001b[0m     \u001b[39mf\u001b[39m\u001b[39m\"\u001b[39m\u001b[39mCOPY INTO \u001b[39m\u001b[39m{\u001b[39;00mtarget_table_name\u001b[39m}\u001b[39;00m\u001b[39m /* Python:snowflake.connector.pandas_tools.write_pandas() */ \u001b[39m\u001b[39m\"\u001b[39m\n\u001b[0;32m    243\u001b[0m     \u001b[39mf\u001b[39m\u001b[39m\"\u001b[39m\u001b[39m(\u001b[39m\u001b[39m{\u001b[39;00mcolumns\u001b[39m}\u001b[39;00m\u001b[39m) \u001b[39m\u001b[39m\"\u001b[39m\n\u001b[1;32m   (...)\u001b[0m\n\u001b[0;32m    246\u001b[0m     \u001b[39mf\u001b[39m\u001b[39m\"\u001b[39m\u001b[39mPURGE=TRUE ON_ERROR=\u001b[39m\u001b[39m{\u001b[39;00mon_error\u001b[39m}\u001b[39;00m\u001b[39m\"\u001b[39m\n\u001b[0;32m    247\u001b[0m )\n\u001b[0;32m    248\u001b[0m logger\u001b[39m.\u001b[39mdebug(\u001b[39mf\u001b[39m\u001b[39m\"\u001b[39m\u001b[39mcopying into with \u001b[39m\u001b[39m'\u001b[39m\u001b[39m{\u001b[39;00mcopy_into_sql\u001b[39m}\u001b[39;00m\u001b[39m'\u001b[39m\u001b[39m\"\u001b[39m)\n\u001b[1;32m--> 249\u001b[0m copy_results \u001b[39m=\u001b[39m cursor\u001b[39m.\u001b[39;49mexecute(copy_into_sql, _is_internal\u001b[39m=\u001b[39;49m\u001b[39mTrue\u001b[39;49;00m)\u001b[39m.\u001b[39mfetchall()\n\u001b[0;32m    251\u001b[0m \u001b[39mif\u001b[39;00m overwrite:\n\u001b[0;32m    252\u001b[0m     original_table_name \u001b[39m=\u001b[39m \u001b[39mf\u001b[39m\u001b[39m\"\u001b[39m\u001b[39m{\u001b[39;00mlocation\u001b[39m}\u001b[39;00m\u001b[39m{\u001b[39;00mquote\u001b[39m}\u001b[39;00m\u001b[39m{\u001b[39;00mtable_name\u001b[39m}\u001b[39;00m\u001b[39m{\u001b[39;00mquote\u001b[39m}\u001b[39;00m\u001b[39m\"\u001b[39m\n",
      "File \u001b[1;32mc:\\Users\\Fede\\AppData\\Local\\Programs\\Python\\Python310\\lib\\site-packages\\snowflake\\connector\\cursor.py:803\u001b[0m, in \u001b[0;36mSnowflakeCursor.execute\u001b[1;34m(self, command, params, _bind_stage, timeout, _exec_async, _no_retry, _do_reset, _put_callback, _put_azure_callback, _put_callback_output_stream, _get_callback, _get_azure_callback, _get_callback_output_stream, _show_progress_bar, _statement_params, _is_internal, _describe_only, _no_results, _is_put_get, _raise_put_get_error, _force_put_overwrite, file_stream)\u001b[0m\n\u001b[0;32m    799\u001b[0m     is_integrity_error \u001b[39m=\u001b[39m (\n\u001b[0;32m    800\u001b[0m         code \u001b[39m==\u001b[39m \u001b[39m\"\u001b[39m\u001b[39m100072\u001b[39m\u001b[39m\"\u001b[39m\n\u001b[0;32m    801\u001b[0m     )  \u001b[39m# NULL result in a non-nullable column\u001b[39;00m\n\u001b[0;32m    802\u001b[0m     error_class \u001b[39m=\u001b[39m IntegrityError \u001b[39mif\u001b[39;00m is_integrity_error \u001b[39melse\u001b[39;00m ProgrammingError\n\u001b[1;32m--> 803\u001b[0m     Error\u001b[39m.\u001b[39;49merrorhandler_wrapper(\u001b[39mself\u001b[39;49m\u001b[39m.\u001b[39;49mconnection, \u001b[39mself\u001b[39;49m, error_class, errvalue)\n\u001b[0;32m    804\u001b[0m \u001b[39mreturn\u001b[39;00m \u001b[39mself\u001b[39m\n",
      "File \u001b[1;32mc:\\Users\\Fede\\AppData\\Local\\Programs\\Python\\Python310\\lib\\site-packages\\snowflake\\connector\\errors.py:275\u001b[0m, in \u001b[0;36mError.errorhandler_wrapper\u001b[1;34m(connection, cursor, error_class, error_value)\u001b[0m\n\u001b[0;32m    252\u001b[0m \u001b[39m@staticmethod\u001b[39m\n\u001b[0;32m    253\u001b[0m \u001b[39mdef\u001b[39;00m \u001b[39merrorhandler_wrapper\u001b[39m(\n\u001b[0;32m    254\u001b[0m     connection: SnowflakeConnection \u001b[39m|\u001b[39m \u001b[39mNone\u001b[39;00m,\n\u001b[1;32m   (...)\u001b[0m\n\u001b[0;32m    257\u001b[0m     error_value: \u001b[39mdict\u001b[39m[\u001b[39mstr\u001b[39m, \u001b[39mstr\u001b[39m \u001b[39m|\u001b[39m \u001b[39mbool\u001b[39m \u001b[39m|\u001b[39m \u001b[39mint\u001b[39m],\n\u001b[0;32m    258\u001b[0m ) \u001b[39m-\u001b[39m\u001b[39m>\u001b[39m \u001b[39mNone\u001b[39;00m:\n\u001b[0;32m    259\u001b[0m     \u001b[39m\"\"\"Error handler wrapper that calls the errorhandler method.\u001b[39;00m\n\u001b[0;32m    260\u001b[0m \n\u001b[0;32m    261\u001b[0m \u001b[39m    Args:\u001b[39;00m\n\u001b[1;32m   (...)\u001b[0m\n\u001b[0;32m    272\u001b[0m \u001b[39m        exception to the first handler in that order.\u001b[39;00m\n\u001b[0;32m    273\u001b[0m \u001b[39m    \"\"\"\u001b[39;00m\n\u001b[1;32m--> 275\u001b[0m     handed_over \u001b[39m=\u001b[39m Error\u001b[39m.\u001b[39;49mhand_to_other_handler(\n\u001b[0;32m    276\u001b[0m         connection,\n\u001b[0;32m    277\u001b[0m         cursor,\n\u001b[0;32m    278\u001b[0m         error_class,\n\u001b[0;32m    279\u001b[0m         error_value,\n\u001b[0;32m    280\u001b[0m     )\n\u001b[0;32m    281\u001b[0m     \u001b[39mif\u001b[39;00m \u001b[39mnot\u001b[39;00m handed_over:\n\u001b[0;32m    282\u001b[0m         \u001b[39mraise\u001b[39;00m Error\u001b[39m.\u001b[39merrorhandler_make_exception(\n\u001b[0;32m    283\u001b[0m             error_class,\n\u001b[0;32m    284\u001b[0m             error_value,\n\u001b[0;32m    285\u001b[0m         )\n",
      "File \u001b[1;32mc:\\Users\\Fede\\AppData\\Local\\Programs\\Python\\Python310\\lib\\site-packages\\snowflake\\connector\\errors.py:330\u001b[0m, in \u001b[0;36mError.hand_to_other_handler\u001b[1;34m(connection, cursor, error_class, error_value)\u001b[0m\n\u001b[0;32m    328\u001b[0m \u001b[39mif\u001b[39;00m cursor \u001b[39mis\u001b[39;00m \u001b[39mnot\u001b[39;00m \u001b[39mNone\u001b[39;00m:\n\u001b[0;32m    329\u001b[0m     cursor\u001b[39m.\u001b[39mmessages\u001b[39m.\u001b[39mappend((error_class, error_value))\n\u001b[1;32m--> 330\u001b[0m     cursor\u001b[39m.\u001b[39;49merrorhandler(connection, cursor, error_class, error_value)\n\u001b[0;32m    331\u001b[0m     \u001b[39mreturn\u001b[39;00m \u001b[39mTrue\u001b[39;00m\n\u001b[0;32m    332\u001b[0m \u001b[39melif\u001b[39;00m connection \u001b[39mis\u001b[39;00m \u001b[39mnot\u001b[39;00m \u001b[39mNone\u001b[39;00m:\n",
      "File \u001b[1;32mc:\\Users\\Fede\\AppData\\Local\\Programs\\Python\\Python310\\lib\\site-packages\\snowflake\\connector\\errors.py:209\u001b[0m, in \u001b[0;36mError.default_errorhandler\u001b[1;34m(connection, cursor, error_class, error_value)\u001b[0m\n\u001b[0;32m    191\u001b[0m \u001b[39m@staticmethod\u001b[39m\n\u001b[0;32m    192\u001b[0m \u001b[39mdef\u001b[39;00m \u001b[39mdefault_errorhandler\u001b[39m(\n\u001b[0;32m    193\u001b[0m     connection: SnowflakeConnection,\n\u001b[1;32m   (...)\u001b[0m\n\u001b[0;32m    196\u001b[0m     error_value: \u001b[39mdict\u001b[39m[\u001b[39mstr\u001b[39m, \u001b[39mstr\u001b[39m],\n\u001b[0;32m    197\u001b[0m ) \u001b[39m-\u001b[39m\u001b[39m>\u001b[39m \u001b[39mNone\u001b[39;00m:\n\u001b[0;32m    198\u001b[0m     \u001b[39m\"\"\"Default error handler that raises an error.\u001b[39;00m\n\u001b[0;32m    199\u001b[0m \n\u001b[0;32m    200\u001b[0m \u001b[39m    Args:\u001b[39;00m\n\u001b[1;32m   (...)\u001b[0m\n\u001b[0;32m    207\u001b[0m \u001b[39m        A Snowflake error.\u001b[39;00m\n\u001b[0;32m    208\u001b[0m \u001b[39m    \"\"\"\u001b[39;00m\n\u001b[1;32m--> 209\u001b[0m     \u001b[39mraise\u001b[39;00m error_class(\n\u001b[0;32m    210\u001b[0m         msg\u001b[39m=\u001b[39merror_value\u001b[39m.\u001b[39mget(\u001b[39m\"\u001b[39m\u001b[39mmsg\u001b[39m\u001b[39m\"\u001b[39m),\n\u001b[0;32m    211\u001b[0m         errno\u001b[39m=\u001b[39merror_value\u001b[39m.\u001b[39mget(\u001b[39m\"\u001b[39m\u001b[39merrno\u001b[39m\u001b[39m\"\u001b[39m),\n\u001b[0;32m    212\u001b[0m         sqlstate\u001b[39m=\u001b[39merror_value\u001b[39m.\u001b[39mget(\u001b[39m\"\u001b[39m\u001b[39msqlstate\u001b[39m\u001b[39m\"\u001b[39m),\n\u001b[0;32m    213\u001b[0m         sfqid\u001b[39m=\u001b[39merror_value\u001b[39m.\u001b[39mget(\u001b[39m\"\u001b[39m\u001b[39msfqid\u001b[39m\u001b[39m\"\u001b[39m),\n\u001b[0;32m    214\u001b[0m         done_format_msg\u001b[39m=\u001b[39merror_value\u001b[39m.\u001b[39mget(\u001b[39m\"\u001b[39m\u001b[39mdone_format_msg\u001b[39m\u001b[39m\"\u001b[39m),\n\u001b[0;32m    215\u001b[0m         connection\u001b[39m=\u001b[39mconnection,\n\u001b[0;32m    216\u001b[0m         cursor\u001b[39m=\u001b[39mcursor,\n\u001b[0;32m    217\u001b[0m     )\n",
      "\u001b[1;31mProgrammingError\u001b[0m: 000606 (57P03): No active warehouse selected in the current session.  Select an active warehouse with the 'use warehouse' command.\n"
     ]
    }
   ],
   "source": [
    "with engine.connect() as con:\n",
    "        test1.to_sql(name='testeo_123', con=con, index=False, if_exists='append', method=pd_writer)"
   ]
  },
  {
   "cell_type": "code",
   "execution_count": null,
   "metadata": {},
   "outputs": [],
   "source": [
    "test1.to_sql(name='testeo_2', con=connection, index=False, if_exists='append', method=pd_writer)"
   ]
  },
  {
   "cell_type": "code",
   "execution_count": null,
   "metadata": {},
   "outputs": [],
   "source": []
  },
  {
   "cell_type": "code",
   "execution_count": null,
   "metadata": {},
   "outputs": [],
   "source": [
    "write_pandas(\n",
    "    conn= conn,\n",
    "    df= test1,\n",
    "    table_name= 'testeo_1',\n",
    "    database= DB_NAME,\n",
    "    schema= SCHEMA\n",
    "    )"
   ]
  },
  {
   "cell_type": "code",
   "execution_count": null,
   "metadata": {},
   "outputs": [],
   "source": [
    "path = r\"C:\\Users\\Fede\\Desktop\\FOCUS\\Intellignos\\AssistCard\\ExtractedFromGA\\H\\2017\"\n",
    "all_files = glob.glob(os.path.join(path, \"*.csv\")) "
   ]
  },
  {
   "cell_type": "code",
   "execution_count": null,
   "metadata": {},
   "outputs": [],
   "source": [
    "all_files"
   ]
  },
  {
   "cell_type": "code",
   "execution_count": null,
   "metadata": {},
   "outputs": [],
   "source": [
    "CHUNK_SIZE = 1000"
   ]
  },
  {
   "cell_type": "code",
   "execution_count": 40,
   "metadata": {},
   "outputs": [],
   "source": []
  },
  {
   "cell_type": "code",
   "execution_count": null,
   "metadata": {},
   "outputs": [],
   "source": [
    "for chunk in df_iterator:\n",
    "    print(chunk)"
   ]
  }
 ],
 "metadata": {
  "kernelspec": {
   "display_name": "Python 3.10.7 64-bit",
   "language": "python",
   "name": "python3"
  },
  "language_info": {
   "codemirror_mode": {
    "name": "ipython",
    "version": 3
   },
   "file_extension": ".py",
   "mimetype": "text/x-python",
   "name": "python",
   "nbconvert_exporter": "python",
   "pygments_lexer": "ipython3",
   "version": "3.10.7"
  },
  "orig_nbformat": 4,
  "vscode": {
   "interpreter": {
    "hash": "bf3fddaf5f16d859b6e8d0eeaf4cfc855ee191cae7b483f6b3cdefa4bf9da992"
   }
  }
 },
 "nbformat": 4,
 "nbformat_minor": 2
}
