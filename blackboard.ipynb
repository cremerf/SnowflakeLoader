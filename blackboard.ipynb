{
 "cells": [
  {
   "cell_type": "code",
   "execution_count": null,
   "metadata": {},
   "outputs": [],
   "source": [
    "%load_ext autoreload\n",
    "%autoreload 2"
   ]
  },
  {
   "cell_type": "code",
   "execution_count": 1,
   "metadata": {},
   "outputs": [],
   "source": [
    "import sys\n",
    "sys.path.append('../')\n",
    "import snowflake.connector\n",
    "from sqlalchemy import create_engine\n",
    "from snowflake.sqlalchemy import URL\n",
    "import glob\n",
    "import os\n",
    "import pandas as pd\n",
    "from snowflake.connector.pandas_tools import write_pandas\n",
    "from snowflake.connector.pandas_tools import pd_writer"
   ]
  },
  {
   "cell_type": "code",
   "execution_count": 2,
   "metadata": {},
   "outputs": [],
   "source": [
    "from sqlalchemy import create_engine"
   ]
  },
  {
   "cell_type": "code",
   "execution_count": 30,
   "metadata": {},
   "outputs": [],
   "source": [
    "USER = 'CREMERF'\n",
    "PASSWORD = 'Parabola.com29'\n",
    "ACCOUNT = 'in56010.sa-east-1.aws'\n",
    "WAREHOUSE = 'PIPEDREAMS_CHALLENGE'\n",
    "DB_NAME = 'PIPEDREAMS'\n",
    "SCHEMA = 'TESTING_1'\n",
    "AUTHENTICATOR = 'externalbrowser'\n",
    "ROL= 'ACCOUNTADMIN'"
   ]
  },
  {
   "cell_type": "code",
   "execution_count": null,
   "metadata": {},
   "outputs": [],
   "source": [
    "https://in56010.sa-east-1.aws.snowflakecomputing.com"
   ]
  },
  {
   "cell_type": "code",
   "execution_count": 31,
   "metadata": {},
   "outputs": [],
   "source": [
    "conn = snowflake.connector.connect(\n",
    "            user= USER,\n",
    "            password= PASSWORD,\n",
    "            account= ACCOUNT,\n",
    "            database= DB_NAME,\n",
    "            schema=SCHEMA,\n",
    "            warehouse=WAREHOUSE\n",
    "            )"
   ]
  },
  {
   "cell_type": "code",
   "execution_count": 28,
   "metadata": {},
   "outputs": [],
   "source": [
    "test1 = pd.read_csv('C:\\\\Users\\\\Fede\\\\Desktop\\\\FOCUS\\\\Intellignos\\\\AssistCard\\\\ExtractedFromGA\\\\H\\\\2017\\\\2017.csv')"
   ]
  },
  {
   "cell_type": "code",
   "execution_count": 29,
   "metadata": {},
   "outputs": [
    {
     "data": {
      "text/plain": [
       "(208811, 9)"
      ]
     },
     "execution_count": 29,
     "metadata": {},
     "output_type": "execute_result"
    }
   ],
   "source": [
    "test1.shape"
   ]
  },
  {
   "cell_type": "code",
   "execution_count": null,
   "metadata": {},
   "outputs": [],
   "source": [
    "conn_string = f\"snowflake://{USER}:{PASSWORD}@{ACCOUNT}/{DB_NAME}/{schema_name}\""
   ]
  },
  {
   "cell_type": "code",
   "execution_count": 37,
   "metadata": {},
   "outputs": [],
   "source": [
    "conn_string = f\"snowflake://{USER}:{PASSWORD}@{ACCOUNT}/{DB_NAME}/{SCHEMA}\""
   ]
  },
  {
   "cell_type": "code",
   "execution_count": 38,
   "metadata": {},
   "outputs": [],
   "source": [
    "engine = create_engine(conn_string)"
   ]
  },
  {
   "cell_type": "code",
   "execution_count": null,
   "metadata": {},
   "outputs": [],
   "source": [
    "with engine.connect() as con:\n",
    "        test1.to_sql(name='testeo_12345', con=con, index=False, if_exists='append', method=pd_writer)"
   ]
  },
  {
   "cell_type": "code",
   "execution_count": null,
   "metadata": {},
   "outputs": [],
   "source": [
    "test1.to_sql(name='testeo_2', con=connection, index=False, if_exists='append', method=pd_writer)"
   ]
  },
  {
   "cell_type": "code",
   "execution_count": 40,
   "metadata": {},
   "outputs": [],
   "source": [
    "def get_list_of_paths(csvs_file_path:str, ext:str) -> list:\n",
    "    \"\"\"\n",
    "    Get list of paths from directory. Specify the extension to read ONLY \n",
    "    the those files.\n",
    "\n",
    "    Args:\n",
    "        csvs_file_path (str): Path where persist all the files\n",
    "        ext (str): Suffix at the end of a computer file i.e.: csv\n",
    "\n",
    "    Returns:\n",
    "        all_files: List of str (with paths to each file)\n",
    "    \"\"\"\n",
    "    all_files = glob.glob(os.path.join(csvs_file_path, f\"*.{ext}\"))\n",
    "\n",
    "    return all_files"
   ]
  },
  {
   "cell_type": "code",
   "execution_count": 41,
   "metadata": {},
   "outputs": [],
   "source": [
    "csv = 'csv'"
   ]
  },
  {
   "cell_type": "code",
   "execution_count": 46,
   "metadata": {},
   "outputs": [],
   "source": [
    "csv_file_paths = get_list_of_paths(csvs_file_path=\"C:/Users/Fede/Desktop/FOCUS/Intellignos/AssistCard/ExtractedFromGA/H/2017\", ext=csv)"
   ]
  },
  {
   "cell_type": "code",
   "execution_count": 47,
   "metadata": {},
   "outputs": [
    {
     "data": {
      "text/plain": [
       "['C:/Users/Fede/Desktop/FOCUS/Intellignos/AssistCard/ExtractedFromGA/H/2017\\\\1.csv',\n",
       " 'C:/Users/Fede/Desktop/FOCUS/Intellignos/AssistCard/ExtractedFromGA/H/2017\\\\10.csv',\n",
       " 'C:/Users/Fede/Desktop/FOCUS/Intellignos/AssistCard/ExtractedFromGA/H/2017\\\\11.csv',\n",
       " 'C:/Users/Fede/Desktop/FOCUS/Intellignos/AssistCard/ExtractedFromGA/H/2017\\\\12.csv',\n",
       " 'C:/Users/Fede/Desktop/FOCUS/Intellignos/AssistCard/ExtractedFromGA/H/2017\\\\13.csv',\n",
       " 'C:/Users/Fede/Desktop/FOCUS/Intellignos/AssistCard/ExtractedFromGA/H/2017\\\\14.csv',\n",
       " 'C:/Users/Fede/Desktop/FOCUS/Intellignos/AssistCard/ExtractedFromGA/H/2017\\\\15.csv',\n",
       " 'C:/Users/Fede/Desktop/FOCUS/Intellignos/AssistCard/ExtractedFromGA/H/2017\\\\16.csv',\n",
       " 'C:/Users/Fede/Desktop/FOCUS/Intellignos/AssistCard/ExtractedFromGA/H/2017\\\\17.csv',\n",
       " 'C:/Users/Fede/Desktop/FOCUS/Intellignos/AssistCard/ExtractedFromGA/H/2017\\\\18.csv',\n",
       " 'C:/Users/Fede/Desktop/FOCUS/Intellignos/AssistCard/ExtractedFromGA/H/2017\\\\19.csv',\n",
       " 'C:/Users/Fede/Desktop/FOCUS/Intellignos/AssistCard/ExtractedFromGA/H/2017\\\\2.csv',\n",
       " 'C:/Users/Fede/Desktop/FOCUS/Intellignos/AssistCard/ExtractedFromGA/H/2017\\\\20.csv',\n",
       " 'C:/Users/Fede/Desktop/FOCUS/Intellignos/AssistCard/ExtractedFromGA/H/2017\\\\2017.csv',\n",
       " 'C:/Users/Fede/Desktop/FOCUS/Intellignos/AssistCard/ExtractedFromGA/H/2017\\\\21.csv',\n",
       " 'C:/Users/Fede/Desktop/FOCUS/Intellignos/AssistCard/ExtractedFromGA/H/2017\\\\22.csv',\n",
       " 'C:/Users/Fede/Desktop/FOCUS/Intellignos/AssistCard/ExtractedFromGA/H/2017\\\\23.csv',\n",
       " 'C:/Users/Fede/Desktop/FOCUS/Intellignos/AssistCard/ExtractedFromGA/H/2017\\\\24.csv',\n",
       " 'C:/Users/Fede/Desktop/FOCUS/Intellignos/AssistCard/ExtractedFromGA/H/2017\\\\25.csv',\n",
       " 'C:/Users/Fede/Desktop/FOCUS/Intellignos/AssistCard/ExtractedFromGA/H/2017\\\\26.csv',\n",
       " 'C:/Users/Fede/Desktop/FOCUS/Intellignos/AssistCard/ExtractedFromGA/H/2017\\\\27.csv',\n",
       " 'C:/Users/Fede/Desktop/FOCUS/Intellignos/AssistCard/ExtractedFromGA/H/2017\\\\28.csv',\n",
       " 'C:/Users/Fede/Desktop/FOCUS/Intellignos/AssistCard/ExtractedFromGA/H/2017\\\\29.csv',\n",
       " 'C:/Users/Fede/Desktop/FOCUS/Intellignos/AssistCard/ExtractedFromGA/H/2017\\\\3.csv',\n",
       " 'C:/Users/Fede/Desktop/FOCUS/Intellignos/AssistCard/ExtractedFromGA/H/2017\\\\30.csv',\n",
       " 'C:/Users/Fede/Desktop/FOCUS/Intellignos/AssistCard/ExtractedFromGA/H/2017\\\\31.csv',\n",
       " 'C:/Users/Fede/Desktop/FOCUS/Intellignos/AssistCard/ExtractedFromGA/H/2017\\\\32.csv',\n",
       " 'C:/Users/Fede/Desktop/FOCUS/Intellignos/AssistCard/ExtractedFromGA/H/2017\\\\33.csv',\n",
       " 'C:/Users/Fede/Desktop/FOCUS/Intellignos/AssistCard/ExtractedFromGA/H/2017\\\\34.csv',\n",
       " 'C:/Users/Fede/Desktop/FOCUS/Intellignos/AssistCard/ExtractedFromGA/H/2017\\\\35.csv',\n",
       " 'C:/Users/Fede/Desktop/FOCUS/Intellignos/AssistCard/ExtractedFromGA/H/2017\\\\36.csv',\n",
       " 'C:/Users/Fede/Desktop/FOCUS/Intellignos/AssistCard/ExtractedFromGA/H/2017\\\\37.csv',\n",
       " 'C:/Users/Fede/Desktop/FOCUS/Intellignos/AssistCard/ExtractedFromGA/H/2017\\\\38.csv',\n",
       " 'C:/Users/Fede/Desktop/FOCUS/Intellignos/AssistCard/ExtractedFromGA/H/2017\\\\39.csv',\n",
       " 'C:/Users/Fede/Desktop/FOCUS/Intellignos/AssistCard/ExtractedFromGA/H/2017\\\\4.csv',\n",
       " 'C:/Users/Fede/Desktop/FOCUS/Intellignos/AssistCard/ExtractedFromGA/H/2017\\\\40.csv',\n",
       " 'C:/Users/Fede/Desktop/FOCUS/Intellignos/AssistCard/ExtractedFromGA/H/2017\\\\41.csv',\n",
       " 'C:/Users/Fede/Desktop/FOCUS/Intellignos/AssistCard/ExtractedFromGA/H/2017\\\\42.csv',\n",
       " 'C:/Users/Fede/Desktop/FOCUS/Intellignos/AssistCard/ExtractedFromGA/H/2017\\\\43.csv',\n",
       " 'C:/Users/Fede/Desktop/FOCUS/Intellignos/AssistCard/ExtractedFromGA/H/2017\\\\44.csv',\n",
       " 'C:/Users/Fede/Desktop/FOCUS/Intellignos/AssistCard/ExtractedFromGA/H/2017\\\\45.csv',\n",
       " 'C:/Users/Fede/Desktop/FOCUS/Intellignos/AssistCard/ExtractedFromGA/H/2017\\\\46.csv',\n",
       " 'C:/Users/Fede/Desktop/FOCUS/Intellignos/AssistCard/ExtractedFromGA/H/2017\\\\47.csv',\n",
       " 'C:/Users/Fede/Desktop/FOCUS/Intellignos/AssistCard/ExtractedFromGA/H/2017\\\\48.csv',\n",
       " 'C:/Users/Fede/Desktop/FOCUS/Intellignos/AssistCard/ExtractedFromGA/H/2017\\\\5.csv',\n",
       " 'C:/Users/Fede/Desktop/FOCUS/Intellignos/AssistCard/ExtractedFromGA/H/2017\\\\6.csv',\n",
       " 'C:/Users/Fede/Desktop/FOCUS/Intellignos/AssistCard/ExtractedFromGA/H/2017\\\\7.csv',\n",
       " 'C:/Users/Fede/Desktop/FOCUS/Intellignos/AssistCard/ExtractedFromGA/H/2017\\\\8.csv',\n",
       " 'C:/Users/Fede/Desktop/FOCUS/Intellignos/AssistCard/ExtractedFromGA/H/2017\\\\9.csv']"
      ]
     },
     "execution_count": 47,
     "metadata": {},
     "output_type": "execute_result"
    }
   ],
   "source": [
    "csv_file_paths"
   ]
  },
  {
   "cell_type": "code",
   "execution_count": null,
   "metadata": {},
   "outputs": [],
   "source": [
    "write_pandas(\n",
    "    conn= conn,\n",
    "    df= test1,\n",
    "    table_name= 'testeo_1',\n",
    "    database= DB_NAME,\n",
    "    schema= SCHEMA\n",
    "    )"
   ]
  },
  {
   "cell_type": "code",
   "execution_count": null,
   "metadata": {},
   "outputs": [],
   "source": [
    "path = r\"C:\\Users\\Fede\\Desktop\\FOCUS\\Intellignos\\AssistCard\\ExtractedFromGA\\H\\2017\"\n",
    "all_files = glob.glob(os.path.join(path, \"*.csv\")) "
   ]
  },
  {
   "cell_type": "code",
   "execution_count": null,
   "metadata": {},
   "outputs": [],
   "source": [
    "all_files"
   ]
  },
  {
   "cell_type": "code",
   "execution_count": null,
   "metadata": {},
   "outputs": [],
   "source": [
    "CHUNK_SIZE = 1000"
   ]
  },
  {
   "cell_type": "code",
   "execution_count": 40,
   "metadata": {},
   "outputs": [],
   "source": []
  },
  {
   "cell_type": "code",
   "execution_count": null,
   "metadata": {},
   "outputs": [],
   "source": [
    "for chunk in df_iterator:\n",
    "    print(chunk)"
   ]
  }
 ],
 "metadata": {
  "kernelspec": {
   "display_name": "Python 3.10.7 64-bit",
   "language": "python",
   "name": "python3"
  },
  "language_info": {
   "codemirror_mode": {
    "name": "ipython",
    "version": 3
   },
   "file_extension": ".py",
   "mimetype": "text/x-python",
   "name": "python",
   "nbconvert_exporter": "python",
   "pygments_lexer": "ipython3",
   "version": "3.10.7"
  },
  "orig_nbformat": 4,
  "vscode": {
   "interpreter": {
    "hash": "bf3fddaf5f16d859b6e8d0eeaf4cfc855ee191cae7b483f6b3cdefa4bf9da992"
   }
  }
 },
 "nbformat": 4,
 "nbformat_minor": 2
}
